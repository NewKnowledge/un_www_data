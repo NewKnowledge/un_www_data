{
 "cells": [
  {
   "cell_type": "code",
   "execution_count": 1,
   "metadata": {
    "collapsed": true
   },
   "outputs": [],
   "source": [
    "import pandas as pd\n",
    "import numpy as np\n",
    "%matplotlib inline"
   ]
  },
  {
   "cell_type": "code",
   "execution_count": 2,
   "metadata": {
    "collapsed": false
   },
   "outputs": [],
   "source": [
    "df = pd.read_csv('clean_data/clean_data.csv')"
   ]
  },
  {
   "cell_type": "code",
   "execution_count": 3,
   "metadata": {
    "collapsed": false
   },
   "outputs": [],
   "source": [
    "df = df.drop(['Location', 'Highest Education', 'Gender', 'Age'], axis=1)"
   ]
  },
  {
   "cell_type": "code",
   "execution_count": 4,
   "metadata": {
    "collapsed": false
   },
   "outputs": [],
   "source": [
    "def convert(x):\n",
    "    if x == 'Yes':\n",
    "        return 1\n",
    "    else:\n",
    "        return 0\n",
    "\n",
    "df3 = df.applymap(convert)"
   ]
  },
  {
   "cell_type": "code",
   "execution_count": 5,
   "metadata": {
    "collapsed": false
   },
   "outputs": [],
   "source": [
    "a = df3.groupby('Opportunity Equality').sum()\n",
    "b = df3.groupby('Traditional Views Barrier').sum()\n",
    "c = df3.groupby('Pay Equality').sum()\n",
    "d = df3.groupby('Government Support').sum()\n",
    "e = df3.groupby('Education Helps').sum()\n",
    "f = df3.groupby('Maternity Support Helps').sum()\n",
    "g = df3.groupby('Banking Access Helps').sum()\n",
    "h = df3.groupby('Other Things Helps').sum()\n",
    "i = df3.groupby('Fear Of Violence Barrier').sum()\n",
    "j = df3.groupby('Housework Barrier').sum()\n",
    "k = df3.groupby('Laws Against Working Barrier').sum()\n",
    "l = df3.groupby('Lack Of Experience Barrier').sum()\n",
    "m = df3.groupby('Lack Of Internet Barrier').sum()\n",
    "n = df3.groupby('Family Planning Helps').sum()\n",
    "o = df3.groupby('Minimum Wage Helps').sum()\n",
    "p = df3.groupby('Rolemodels Help').sum()"
   ]
  },
  {
   "cell_type": "code",
   "execution_count": 7,
   "metadata": {
    "collapsed": true
   },
   "outputs": [],
   "source": [
    "def networkizer(x):\n",
    "    name = x.index.name\n",
    "    x = x.drop(0)\n",
    "    x = x.reset_index()\n",
    "    # fix this\n",
    "    x = x.transpose()\n",
    "    x.columns = [name]\n",
    "    return x"
   ]
  },
  {
   "cell_type": "code",
   "execution_count": 8,
   "metadata": {
    "collapsed": false
   },
   "outputs": [],
   "source": [
    "a1 = networkizer(a)\n",
    "b1 = networkizer(b)\n",
    "c1 = networkizer(c)\n",
    "d1 = networkizer(d)\n",
    "e1 = networkizer(e)\n",
    "f1 = networkizer(f)\n",
    "g1 = networkizer(g)\n",
    "h1 = networkizer(h)\n",
    "i1 = networkizer(i)\n",
    "j1 = networkizer(j)\n",
    "k1 = networkizer(k)\n",
    "l1 = networkizer(l)\n",
    "m1 = networkizer(m)\n",
    "n1 = networkizer(n)\n",
    "o1 = networkizer(o)\n",
    "p1 = networkizer(p)"
   ]
  },
  {
   "cell_type": "code",
   "execution_count": 9,
   "metadata": {
    "collapsed": false
   },
   "outputs": [],
   "source": [
    "# df_network = pd.concat([a1, b1, c1, d1, e1, f1, g1, h1, i1, j1, k1, l1, m1, n1], axis=1, join='inner')\n",
    "df_network = pd.concat([a1, b1, c1, d1, e1, f1, g1, h1, i1, j1, k1, l1, m1, n1, o1, p1], axis=1, join='outer')"
   ]
  },
  {
   "cell_type": "code",
   "execution_count": 10,
   "metadata": {
    "collapsed": false
   },
   "outputs": [],
   "source": [
    "df_network = df_network.sort_index(axis=1).sort_index(axis=0)"
   ]
  },
  {
   "cell_type": "code",
   "execution_count": 11,
   "metadata": {
    "collapsed": false
   },
   "outputs": [],
   "source": [
    "df_network = df_network.fillna(0)\n",
    "\n",
    "integerize = lambda x:int(x)\n",
    "df_network = df_network.applymap(integerize)"
   ]
  },
  {
   "cell_type": "code",
   "execution_count": 12,
   "metadata": {
    "collapsed": false
   },
   "outputs": [],
   "source": [
    "df_network.to_csv('clean_data/comparisons.csv', index=False)"
   ]
  },
  {
   "cell_type": "code",
   "execution_count": 20,
   "metadata": {
    "collapsed": false
   },
   "outputs": [
    {
     "data": {
      "image/png": "[encoded data removed]",
      "text/plain": [
       "<matplotlib.figure.Figure at 0x1125c6198>"
      ]
     },
     "metadata": {},
     "output_type": "display_data"
    }
   ],
   "source": [
    "import matplotlib.pyplot as plt\n",
    "import numpy as np\n",
    "column_labels = list(df_network.columns)\n",
    "row_labels = list(df_network.index)\n",
    "data = df_network.as_matrix()\n",
    "fig, ax = plt.subplots()\n",
    "heatmap = ax.pcolor(data, cmap=plt.cm.Blues)\n",
    "\n",
    "# put the major ticks at the middle of each cell\n",
    "ax.set_xticks(np.arange(data.shape[0])+0.5, minor=False)\n",
    "ax.set_yticks(np.arange(data.shape[1])+0.5, minor=False)\n",
    "\n",
    "# want a more natural, table-like display\n",
    "ax.invert_yaxis()\n",
    "ax.xaxis.tick_top()\n",
    "plt.xticks(rotation=90)\n",
    "\n",
    "ax.grid(False)\n",
    "\n",
    "\n",
    "\n",
    "\n",
    "ax.set_xticklabels(row_labels, minor=False)\n",
    "ax.set_yticklabels(column_labels, minor=False)\n",
    "plt.show()"
   ]
  },
  {
   "cell_type": "code",
   "execution_count": null,
   "metadata": {
    "collapsed": true
   },
   "outputs": [],
   "source": []
  }
 ],
 "metadata": {
  "kernelspec": {
   "display_name": "Python 3",
   "language": "python",
   "name": "python3"
  },
  "language_info": {
   "codemirror_mode": {
    "name": "ipython",
    "version": 3
   },
   "file_extension": ".py",
   "mimetype": "text/x-python",
   "name": "python",
   "nbconvert_exporter": "python",
   "pygments_lexer": "ipython3",
   "version": "3.5.1"
  }
 },
 "nbformat": 4,
 "nbformat_minor": 0
}
