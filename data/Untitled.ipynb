{
 "cells": [
  {
   "cell_type": "code",
   "execution_count": 41,
   "metadata": {
    "collapsed": true
   },
   "outputs": [],
   "source": [
    "import nltk\n",
    "import re"
   ]
  },
  {
   "cell_type": "code",
   "execution_count": 47,
   "metadata": {
    "collapsed": false
   },
   "outputs": [],
   "source": [
    "text = '''Good behavior upon the street, or public promenade, marks the gentleman\n",
    "most effectually; rudeness, incivility, disregard of \"what the world\n",
    "says,\" marks the person of low breeding. We always know, in walking a\n",
    "square with a man, if he is a gentleman or not. A real gentility never\n",
    "does the following things on the street, in presence of observers'''"
   ]
  },
  {
   "cell_type": "code",
   "execution_count": 58,
   "metadata": {
    "collapsed": true
   },
   "outputs": [],
   "source": []
  },
  {
   "cell_type": "code",
   "execution_count": 57,
   "metadata": {
    "collapsed": false
   },
   "outputs": [
    {
     "data": {
      "text/plain": [
       "['Good behavior',\n",
       " 'street',\n",
       " 'public promenade',\n",
       " 'gentleman',\n",
       " 'rudeness',\n",
       " 'incivility',\n",
       " 'disregard',\n",
       " 'world',\n",
       " 'person',\n",
       " 'low breeding',\n",
       " 'square',\n",
       " 'man',\n",
       " 'gentleman',\n",
       " 'real gentility',\n",
       " 'street',\n",
       " 'presence']"
      ]
     },
     "execution_count": 57,
     "metadata": {},
     "output_type": "execute_result"
    }
   ],
   "source": [
    "find_nps(text)"
   ]
  }
 ],
 "metadata": {
  "kernelspec": {
   "display_name": "Python 3",
   "language": "python",
   "name": "python3"
  },
  "language_info": {
   "codemirror_mode": {
    "name": "ipython",
    "version": 3
   },
   "file_extension": ".py",
   "mimetype": "text/x-python",
   "name": "python",
   "nbconvert_exporter": "python",
   "pygments_lexer": "ipython3",
   "version": "3.5.1"
  }
 },
 "nbformat": 4,
 "nbformat_minor": 0
}
