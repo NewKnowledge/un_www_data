{
 "cells": [
  {
   "cell_type": "code",
   "execution_count": 1,
   "metadata": {
    "collapsed": true
   },
   "outputs": [],
   "source": [
    "import pandas as pd\n",
    "import numpy as np\n",
    "from geopy.geocoders import Nominatim\n",
    "geolocator = Nominatim()"
   ]
  },
  {
   "cell_type": "code",
   "execution_count": 2,
   "metadata": {
    "collapsed": true
   },
   "outputs": [],
   "source": [
    "xls_file = pd.ExcelFile('raw_data/myworld-women_2016_06_19_20_54_27.xlsx')"
   ]
  },
  {
   "cell_type": "code",
   "execution_count": 3,
   "metadata": {
    "collapsed": true
   },
   "outputs": [],
   "source": [
    "xls_df = xls_file.parse(xls_file.sheet_names[0])"
   ]
  },
  {
   "cell_type": "code",
   "execution_count": 4,
   "metadata": {
    "collapsed": true
   },
   "outputs": [],
   "source": [
    "df = pd.DataFrame()"
   ]
  },
  {
   "cell_type": "code",
   "execution_count": 5,
   "metadata": {
    "collapsed": false
   },
   "outputs": [],
   "source": [
    "#q1\n",
    "df['Belief In Earning Opportunity Equality'] = xls_df['q1']\n",
    "#q2\n",
    "df['Belief In Pay Equality'] = xls_df['q2']\n",
    "\n",
    "#q3/1\n",
    "df['Education Helps Women'] = xls_df['q3/1']\n",
    "#q3/2\n",
    "df['Role Models Help Women'] = xls_df['q3/2']\n",
    "#q3/3\n",
    "df['Family Planning Helps Women'] = xls_df['q3/3']\n",
    "#q3/4\n",
    "df['Maternity Pay And Childcare Helps Women'] = xls_df['q3/4']\n",
    "#q3/5\n",
    "df['Minimum Wage Help Women'] = xls_df['q3/5']\n",
    "#q3/6\n",
    "df['Access To Banking Helps Women'] = xls_df['q3/6']\n",
    "#q3/7\n",
    "df['Womens Groups And Charities Helps Women'] = xls_df['q3/7']\n",
    "#q3/a\n",
    "df['What Helps Women?'] = xls_df['q3a']\n",
    "\n",
    "#q4/1\n",
    "df['Fear Of Violence Is A Barrier'] = xls_df['q4/1']\n",
    "#q4/2\n",
    "df['Laws Against Women Working Is A Barrier'] = xls_df['q4/2']\n",
    "#q4/3\n",
    "df['Family Responsibilities Is A Barrier'] = xls_df['q4/3']\n",
    "#q4/4\n",
    "df['Lack Of Experience Or Skills Is A Barrier'] = xls_df['q4/4']\n",
    "#q4/5\n",
    "df['Traditional Views Of Women Is A Barrier'] = xls_df['q4/5']\n",
    "#q4/6\n",
    "df['Lack Of ICT Access Is A Barrier'] = xls_df['q4/6']\n",
    "#q4/a\n",
    "df['What Are Barriers To Women?'] = xls_df['q4a']\n",
    "\n",
    "#q5\n",
    "df['Strength Of Belief That Government Is Helping Women'] = xls_df['q5']\n",
    "#q6\n",
    "df['What Helped You The Most?'] = xls_df['q6']\n",
    "\n",
    "#gender\n",
    "df['Gender'] = xls_df['respondent/gender']\n",
    "\n",
    "#education\n",
    "df['Education'] = xls_df['respondent/edu']\n",
    "\n",
    "#age\n",
    "df['Age'] = xls_df['respondent/age']\n",
    "\n",
    "#country\n",
    "df['Country'] = xls_df['respondent/country']\n",
    "\n",
    "#city\n",
    "df['City'] = xls_df['respondent/qd5']\n",
    "\n",
    "#location\n",
    "df['Location'] = np.nan"
   ]
  },
  {
   "cell_type": "code",
   "execution_count": 6,
   "metadata": {
    "collapsed": false
   },
   "outputs": [],
   "source": [
    "# Geolocate (city, country). If the city doesn't exist, just geolocate the country.\n",
    "\n",
    "geo = []\n",
    "\n",
    "for i in list(zip(df['City'], df['Country'])):\n",
    "    if type(i[0]) == float:\n",
    "        try:\n",
    "            loc = geolocator.geocode(i[1])\n",
    "            geo.append((loc.latitude, loc.longitude))\n",
    "        except:\n",
    "            geo.append(np.nan)\n",
    "    else:\n",
    "        try:\n",
    "            location = ', '.join(i)\n",
    "            loc = geolocator.geocode(location)\n",
    "            geo.append((loc.latitude, loc.longitude))\n",
    "        except:\n",
    "            geo.append(np.nan)\n",
    "            \n",
    "df['Location'] = geo"
   ]
  },
  {
   "cell_type": "code",
   "execution_count": 7,
   "metadata": {
    "collapsed": false
   },
   "outputs": [],
   "source": [
    "def true_false_converter(x):\n",
    "    if x == True:\n",
    "        return 'Yes'\n",
    "    elif x == 'yes':\n",
    "        return 'Yes'\n",
    "    elif x == False:\n",
    "        return 'No'\n",
    "    elif x == 'no':\n",
    "        return 'No'\n",
    "    elif x == 'dn':\n",
    "        return np.nan\n",
    "    else:\n",
    "        return x\n",
    "\n",
    "df[df.columns[0:16]] = df[df.columns[0:16]].applymap(true_false_converter)"
   ]
  },
  {
   "cell_type": "code",
   "execution_count": 8,
   "metadata": {
    "collapsed": false
   },
   "outputs": [],
   "source": [
    "capitalizer = lambda x: x.title()\n",
    "\n",
    "df['Gender'] = df['Gender'].map(capitalizer)"
   ]
  },
  {
   "cell_type": "code",
   "execution_count": 9,
   "metadata": {
    "collapsed": false
   },
   "outputs": [],
   "source": [
    "def education_converter(x):\n",
    "    if x == 1:\n",
    "        return 'Some Primary School'\n",
    "    elif x == 2:\n",
    "        return 'Finished Primary School'\n",
    "    elif x == 3:\n",
    "        return 'Finished Secondary School'\n",
    "    elif x == 4:\n",
    "        return 'Beyond Secondary School'\n",
    "    \n",
    "df['Education'] = df['Education'].map(education_converter)"
   ]
  },
  {
   "cell_type": "code",
   "execution_count": 10,
   "metadata": {
    "collapsed": false
   },
   "outputs": [],
   "source": [
    "df.drop(['City', 'Country', 'Location'], axis=1).to_csv('clean_data/data.csv', index=False)"
   ]
  },
  {
   "cell_type": "code",
   "execution_count": 11,
   "metadata": {
    "collapsed": false
   },
   "outputs": [],
   "source": [
    "df[df.columns[22:]].to_csv('clean_data/location_data.csv', index=False)"
   ]
  },
  {
   "cell_type": "code",
   "execution_count": null,
   "metadata": {
    "collapsed": true
   },
   "outputs": [],
   "source": []
  }
 ],
 "metadata": {
  "kernelspec": {
   "display_name": "Python 3",
   "language": "python",
   "name": "python3"
  },
  "language_info": {
   "codemirror_mode": {
    "name": "ipython",
    "version": 3
   },
   "file_extension": ".py",
   "mimetype": "text/x-python",
   "name": "python",
   "nbconvert_exporter": "python",
   "pygments_lexer": "ipython3",
   "version": "3.5.1"
  }
 },
 "nbformat": 4,
 "nbformat_minor": 0
}
