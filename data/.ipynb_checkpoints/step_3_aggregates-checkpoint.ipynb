{
 "cells": [
  {
   "cell_type": "code",
   "execution_count": 1,
   "metadata": {
    "collapsed": true
   },
   "outputs": [],
   "source": [
    "import pandas as pd\n",
    "import numpy as np"
   ]
  },
  {
   "cell_type": "code",
   "execution_count": 2,
   "metadata": {
    "collapsed": false
   },
   "outputs": [],
   "source": [
    "df = pd.read_csv('clean_data/ureport_country_data.csv')\n",
    "df = df.drop('Unnamed: 0', axis=1)"
   ]
  },
  {
   "cell_type": "code",
   "execution_count": 3,
   "metadata": {
    "collapsed": false
   },
   "outputs": [],
   "source": [
    "barriers = [\"Fear Of Violence Is A Barrier\",\n",
    "            \"Laws Against Women Working Is A Barrier\",\n",
    "            \"Family Responsibilities Are A Barrier\",\n",
    "            \"Lack Of Experience Or Skills Is A Barrier\",\n",
    "            \"Traditional Views Of Women Are A Barrier\",\n",
    "            \"Lack Of ICT Access Is A Barrier\",\n",
    "            \"Other Things Are Barriers\"]\n",
    "\n",
    "actions = ['Education ', \n",
    "           'Role Models ', \n",
    "           'Family Planning ',\n",
    "           'Maternity Pay And Childcare ', \n",
    "           'Access To Banking ',\n",
    "           'Womens Groups And Charities ', \n",
    "           'Other Things ']"
   ]
  },
  {
   "cell_type": "code",
   "execution_count": 4,
   "metadata": {
    "collapsed": true
   },
   "outputs": [],
   "source": [
    "x = np.nan"
   ]
  },
  {
   "cell_type": "code",
   "execution_count": 5,
   "metadata": {
    "collapsed": false
   },
   "outputs": [],
   "source": [
    "def cleaner(x):\n",
    "    if type(x) == str:\n",
    "        try:\n",
    "            return int(x.replace('%', ''))\n",
    "        except:\n",
    "            return x\n",
    "    elif type(x) == float:\n",
    "        return x\n",
    "    else:\n",
    "        return x"
   ]
  },
  {
   "cell_type": "code",
   "execution_count": 6,
   "metadata": {
    "collapsed": false
   },
   "outputs": [],
   "source": [
    "df_clean = df.applymap(cleaner)"
   ]
  },
  {
   "cell_type": "code",
   "execution_count": 7,
   "metadata": {
    "collapsed": false
   },
   "outputs": [],
   "source": [
    "df_region = df_clean.groupby('Region').mean()\n",
    "df_region.columns = [x.replace('Help Women', '').replace('Helps Women', '') for x in df_region.columns.values]\n",
    "df_region['Region'] = df_region.index\n",
    "df_region = df_region.round(2)"
   ]
  },
  {
   "cell_type": "code",
   "execution_count": 8,
   "metadata": {
    "collapsed": false
   },
   "outputs": [],
   "source": [
    "df_income = df_clean.groupby('Income Level').mean()\n",
    "df_income.columns = [x.replace('Help Women', '').replace('Helps Women', '') for x in df_income.columns.values]\n",
    "df_income['Income Level'] = df_income.index\n",
    "df_income = df_income.round(2)"
   ]
  },
  {
   "cell_type": "code",
   "execution_count": 13,
   "metadata": {
    "collapsed": false
   },
   "outputs": [],
   "source": [
    "df_region_barriers = df_region[barriers].transpose()\n",
    "df_region_barriers['Barriers'] = df_region_barriers.index\n",
    "df_region_barriers.to_csv('clean_data/ureport_region_barriers.csv', index=False)\n",
    "\n",
    "df_region_actions = df_region[actions].transpose()\n",
    "df_region_actions['Actions'] = df_region_actions.index\n",
    "df_region_actions.to_csv('clean_data/ureport_region_actions.csv', index=False)\n",
    "\n",
    "df_income_barriers = df_income[barriers].transpose()\n",
    "df_income_barriers['Barriers'] = df_income_barriers.index\n",
    "df_income_barriers.to_csv('clean_data/ureport_income_barriers.csv', index=False)\n",
    "\n",
    "df_income_actions = df_income[actions].transpose()\n",
    "df_income_actions['Actions'] = df_income_actions.index\n",
    "df_income_actions.to_csv('clean_data/ureport_income_actions.csv', index=False)"
   ]
  },
  {
   "cell_type": "code",
   "execution_count": 14,
   "metadata": {
    "collapsed": false
   },
   "outputs": [
    {
     "data": {
      "text/html": [
       "<div>\n",
       "<table border=\"1\" class=\"dataframe\">\n",
       "  <thead>\n",
       "    <tr style=\"text-align: right;\">\n",
       "      <th>Income Level</th>\n",
       "      <th>High</th>\n",
       "      <th>Low</th>\n",
       "      <th>Middle</th>\n",
       "      <th>Very High</th>\n",
       "      <th>Actions</th>\n",
       "    </tr>\n",
       "  </thead>\n",
       "  <tbody>\n",
       "    <tr>\n",
       "      <th>Education</th>\n",
       "      <td>28.0</td>\n",
       "      <td>50.2</td>\n",
       "      <td>47.0</td>\n",
       "      <td>37.0</td>\n",
       "      <td>Education</td>\n",
       "    </tr>\n",
       "    <tr>\n",
       "      <th>Role Models</th>\n",
       "      <td>5.0</td>\n",
       "      <td>11.0</td>\n",
       "      <td>12.4</td>\n",
       "      <td>13.0</td>\n",
       "      <td>Role Models</td>\n",
       "    </tr>\n",
       "    <tr>\n",
       "      <th>Family Planning</th>\n",
       "      <td>5.0</td>\n",
       "      <td>9.2</td>\n",
       "      <td>10.9</td>\n",
       "      <td>10.0</td>\n",
       "      <td>Family Planning</td>\n",
       "    </tr>\n",
       "    <tr>\n",
       "      <th>Maternity Pay And Childcare</th>\n",
       "      <td>16.0</td>\n",
       "      <td>6.0</td>\n",
       "      <td>12.4</td>\n",
       "      <td>27.0</td>\n",
       "      <td>Maternity Pay And Childcare</td>\n",
       "    </tr>\n",
       "    <tr>\n",
       "      <th>Access To Banking</th>\n",
       "      <td>29.0</td>\n",
       "      <td>8.5</td>\n",
       "      <td>2.6</td>\n",
       "      <td>0.0</td>\n",
       "      <td>Access To Banking</td>\n",
       "    </tr>\n",
       "    <tr>\n",
       "      <th>Womens Groups And Charities</th>\n",
       "      <td>9.0</td>\n",
       "      <td>11.0</td>\n",
       "      <td>9.6</td>\n",
       "      <td>3.0</td>\n",
       "      <td>Womens Groups And Charities</td>\n",
       "    </tr>\n",
       "    <tr>\n",
       "      <th>Other Things</th>\n",
       "      <td>8.0</td>\n",
       "      <td>3.5</td>\n",
       "      <td>4.3</td>\n",
       "      <td>10.0</td>\n",
       "      <td>Other Things</td>\n",
       "    </tr>\n",
       "  </tbody>\n",
       "</table>\n",
       "</div>"
      ],
      "text/plain": [
       "Income Level                  High   Low  Middle  Very High  \\\n",
       "Education                     28.0  50.2    47.0       37.0   \n",
       "Role Models                    5.0  11.0    12.4       13.0   \n",
       "Family Planning                5.0   9.2    10.9       10.0   \n",
       "Maternity Pay And Childcare   16.0   6.0    12.4       27.0   \n",
       "Access To Banking             29.0   8.5     2.6        0.0   \n",
       "Womens Groups And Charities    9.0  11.0     9.6        3.0   \n",
       "Other Things                   8.0   3.5     4.3       10.0   \n",
       "\n",
       "Income Level                                       Actions  \n",
       "Education                                       Education   \n",
       "Role Models                                   Role Models   \n",
       "Family Planning                           Family Planning   \n",
       "Maternity Pay And Childcare   Maternity Pay And Childcare   \n",
       "Access To Banking                       Access To Banking   \n",
       "Womens Groups And Charities   Womens Groups And Charities   \n",
       "Other Things                                 Other Things   "
      ]
     },
     "execution_count": 14,
     "metadata": {},
     "output_type": "execute_result"
    }
   ],
   "source": [
    "df_income_actions"
   ]
  },
  {
   "cell_type": "code",
   "execution_count": 22,
   "metadata": {
    "collapsed": false
   },
   "outputs": [],
   "source": [
    "df_income_actions[['Low', 'Actions']].to_csv('clean_data/ureport_income_actions_low.csv', index=False)"
   ]
  },
  {
   "cell_type": "code",
   "execution_count": 24,
   "metadata": {
    "collapsed": false
   },
   "outputs": [
    {
     "data": {
      "text/html": [
       "<div>\n",
       "<table border=\"1\" class=\"dataframe\">\n",
       "  <thead>\n",
       "    <tr style=\"text-align: right;\">\n",
       "      <th>Region</th>\n",
       "      <th>Asia</th>\n",
       "      <th>Central America</th>\n",
       "      <th>Eastern Europe and central Asia</th>\n",
       "      <th>Europe</th>\n",
       "      <th>Latin America and the Caribbean</th>\n",
       "      <th>South East Asia</th>\n",
       "      <th>Sub-Saharan Africa</th>\n",
       "      <th>Actions</th>\n",
       "    </tr>\n",
       "  </thead>\n",
       "  <tbody>\n",
       "    <tr>\n",
       "      <th>Education</th>\n",
       "      <td>58.0</td>\n",
       "      <td>28.0</td>\n",
       "      <td>30.0</td>\n",
       "      <td>37.0</td>\n",
       "      <td>37.0</td>\n",
       "      <td>47.0</td>\n",
       "      <td>51.1</td>\n",
       "      <td>Education</td>\n",
       "    </tr>\n",
       "    <tr>\n",
       "      <th>Role Models</th>\n",
       "      <td>11.0</td>\n",
       "      <td>5.0</td>\n",
       "      <td>17.0</td>\n",
       "      <td>13.0</td>\n",
       "      <td>12.0</td>\n",
       "      <td>4.0</td>\n",
       "      <td>12.4</td>\n",
       "      <td>Role Models</td>\n",
       "    </tr>\n",
       "    <tr>\n",
       "      <th>Family Planning</th>\n",
       "      <td>11.0</td>\n",
       "      <td>5.0</td>\n",
       "      <td>12.0</td>\n",
       "      <td>10.0</td>\n",
       "      <td>16.0</td>\n",
       "      <td>4.0</td>\n",
       "      <td>10.0</td>\n",
       "      <td>Family Planning</td>\n",
       "    </tr>\n",
       "    <tr>\n",
       "      <th>Maternity Pay And Childcare</th>\n",
       "      <td>7.0</td>\n",
       "      <td>16.0</td>\n",
       "      <td>20.0</td>\n",
       "      <td>27.0</td>\n",
       "      <td>16.0</td>\n",
       "      <td>22.0</td>\n",
       "      <td>6.6</td>\n",
       "      <td>Maternity Pay And Childcare</td>\n",
       "    </tr>\n",
       "    <tr>\n",
       "      <th>Access To Banking</th>\n",
       "      <td>3.0</td>\n",
       "      <td>29.0</td>\n",
       "      <td>1.0</td>\n",
       "      <td>0.0</td>\n",
       "      <td>3.0</td>\n",
       "      <td>2.0</td>\n",
       "      <td>6.1</td>\n",
       "      <td>Access To Banking</td>\n",
       "    </tr>\n",
       "    <tr>\n",
       "      <th>Womens Groups And Charities</th>\n",
       "      <td>5.0</td>\n",
       "      <td>9.0</td>\n",
       "      <td>11.0</td>\n",
       "      <td>3.0</td>\n",
       "      <td>15.0</td>\n",
       "      <td>12.0</td>\n",
       "      <td>9.7</td>\n",
       "      <td>Womens Groups And Charities</td>\n",
       "    </tr>\n",
       "    <tr>\n",
       "      <th>Other Things</th>\n",
       "      <td>5.0</td>\n",
       "      <td>8.0</td>\n",
       "      <td>6.0</td>\n",
       "      <td>10.0</td>\n",
       "      <td>1.0</td>\n",
       "      <td>6.0</td>\n",
       "      <td>3.7</td>\n",
       "      <td>Other Things</td>\n",
       "    </tr>\n",
       "  </tbody>\n",
       "</table>\n",
       "</div>"
      ],
      "text/plain": [
       "Region                        Asia  Central America  \\\n",
       "Education                     58.0             28.0   \n",
       "Role Models                   11.0              5.0   \n",
       "Family Planning               11.0              5.0   \n",
       "Maternity Pay And Childcare    7.0             16.0   \n",
       "Access To Banking              3.0             29.0   \n",
       "Womens Groups And Charities    5.0              9.0   \n",
       "Other Things                   5.0              8.0   \n",
       "\n",
       "Region                        Eastern Europe and central Asia  Europe  \\\n",
       "Education                                                30.0    37.0   \n",
       "Role Models                                              17.0    13.0   \n",
       "Family Planning                                          12.0    10.0   \n",
       "Maternity Pay And Childcare                              20.0    27.0   \n",
       "Access To Banking                                         1.0     0.0   \n",
       "Womens Groups And Charities                              11.0     3.0   \n",
       "Other Things                                              6.0    10.0   \n",
       "\n",
       "Region                        Latin America and the Caribbean  \\\n",
       "Education                                                37.0   \n",
       "Role Models                                              12.0   \n",
       "Family Planning                                          16.0   \n",
       "Maternity Pay And Childcare                              16.0   \n",
       "Access To Banking                                         3.0   \n",
       "Womens Groups And Charities                              15.0   \n",
       "Other Things                                              1.0   \n",
       "\n",
       "Region                        South East Asia  Sub-Saharan Africa  \\\n",
       "Education                                47.0                51.1   \n",
       "Role Models                               4.0                12.4   \n",
       "Family Planning                           4.0                10.0   \n",
       "Maternity Pay And Childcare              22.0                 6.6   \n",
       "Access To Banking                         2.0                 6.1   \n",
       "Womens Groups And Charities              12.0                 9.7   \n",
       "Other Things                              6.0                 3.7   \n",
       "\n",
       "Region                                             Actions  \n",
       "Education                                       Education   \n",
       "Role Models                                   Role Models   \n",
       "Family Planning                           Family Planning   \n",
       "Maternity Pay And Childcare   Maternity Pay And Childcare   \n",
       "Access To Banking                       Access To Banking   \n",
       "Womens Groups And Charities   Womens Groups And Charities   \n",
       "Other Things                                 Other Things   "
      ]
     },
     "execution_count": 24,
     "metadata": {},
     "output_type": "execute_result"
    }
   ],
   "source": [
    "df_region_actions"
   ]
  },
  {
   "cell_type": "code",
   "execution_count": 27,
   "metadata": {
    "collapsed": false
   },
   "outputs": [],
   "source": [
    "df_region_actions[['Latin America and the Caribbean', 'Actions']].to_csv('clean_data/ureport_region_actions_la.csv', index=False)"
   ]
  },
  {
   "cell_type": "code",
   "execution_count": 35,
   "metadata": {
    "collapsed": false
   },
   "outputs": [],
   "source": [
    "df_region_barriers[['Europe', 'Barriers']].to_csv('clean_data/ureport_region_barriers_europe.csv', index=False)"
   ]
  },
  {
   "cell_type": "code",
   "execution_count": null,
   "metadata": {
    "collapsed": true
   },
   "outputs": [],
   "source": []
  }
 ],
 "metadata": {
  "kernelspec": {
   "display_name": "Python 3",
   "language": "python",
   "name": "python3"
  },
  "language_info": {
   "codemirror_mode": {
    "name": "ipython",
    "version": 3
   },
   "file_extension": ".py",
   "mimetype": "text/x-python",
   "name": "python",
   "nbconvert_exporter": "python",
   "pygments_lexer": "ipython3",
   "version": "3.5.1"
  }
 },
 "nbformat": 4,
 "nbformat_minor": 0
}
